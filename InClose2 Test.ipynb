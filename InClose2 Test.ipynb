{
 "cells": [
  {
   "cell_type": "code",
   "execution_count": 1,
   "metadata": {},
   "outputs": [
    {
     "name": "stdout",
     "output_type": "stream",
     "text": [
      "Obtaining file:///Users/maayan/Documents/Projects/InClose2\n",
      "Requirement already satisfied: bitarray==0.8.3 in /Library/Frameworks/Python.framework/Versions/3.6/lib/python3.6/site-packages (from InClose2==0.1) (0.8.3)\n",
      "Requirement already satisfied: anytree==2.4.3 in /Library/Frameworks/Python.framework/Versions/3.6/lib/python3.6/site-packages (from InClose2==0.1) (2.4.3)\n",
      "Requirement already satisfied: six>=1.9.0 in /Library/Frameworks/Python.framework/Versions/3.6/lib/python3.6/site-packages (from anytree==2.4.3->InClose2==0.1) (1.11.0)\n",
      "Installing collected packages: InClose2\n",
      "  Found existing installation: InClose2 0.1\n",
      "    Uninstalling InClose2-0.1:\n",
      "      Successfully uninstalled InClose2-0.1\n",
      "  Running setup.py develop for InClose2\n",
      "Successfully installed InClose2\n",
      "\u001b[33mYou are using pip version 18.0, however version 18.1 is available.\n",
      "You should consider upgrading via the 'pip install --upgrade pip' command.\u001b[0m\n"
     ]
    }
   ],
   "source": [
    "!pip install -e ."
   ]
  },
  {
   "cell_type": "code",
   "execution_count": 2,
   "metadata": {},
   "outputs": [],
   "source": [
    "from InClose2 import InClose2"
   ]
  },
  {
   "cell_type": "code",
   "execution_count": 3,
   "metadata": {},
   "outputs": [],
   "source": [
    "inclose = InClose2()"
   ]
  },
  {
   "cell_type": "code",
   "execution_count": 4,
   "metadata": {},
   "outputs": [],
   "source": [
    "key_list = [\"animal\", \"vertebrate\", \"mammal\", \"land animal\", \"four legs\", \"aquatic\", \"live birth\"]"
   ]
  },
  {
   "cell_type": "code",
   "execution_count": 5,
   "metadata": {},
   "outputs": [],
   "source": [
    "matrix = [key_list[0:4] + [key_list[6]],\n",
    "          key_list[0:5] + [key_list[6]],\n",
    "          key_list[0:5] + [key_list[6]],\n",
    "          key_list[0:2] + [key_list[3]],\n",
    "          key_list[0:2] + [key_list[5]],\n",
    "          key_list[0:3] + key_list[5:7]\n",
    "         ]"
   ]
  },
  {
   "cell_type": "code",
   "execution_count": 6,
   "metadata": {},
   "outputs": [
    {
     "data": {
      "text/plain": [
       "[['animal', 'vertebrate', 'mammal', 'land animal', 'live birth'],\n",
       " ['animal', 'vertebrate', 'mammal', 'land animal', 'four legs', 'live birth'],\n",
       " ['animal', 'vertebrate', 'mammal', 'land animal', 'four legs', 'live birth'],\n",
       " ['animal', 'vertebrate', 'land animal'],\n",
       " ['animal', 'vertebrate', 'aquatic'],\n",
       " ['animal', 'vertebrate', 'mammal', 'aquatic', 'live birth']]"
      ]
     },
     "execution_count": 6,
     "metadata": {},
     "output_type": "execute_result"
    }
   ],
   "source": [
    "matrix"
   ]
  },
  {
   "cell_type": "code",
   "execution_count": 7,
   "metadata": {},
   "outputs": [],
   "source": [
    "bit_matrix, parent = inclose.initialize(key_list, matrix)"
   ]
  },
  {
   "cell_type": "code",
   "execution_count": 8,
   "metadata": {},
   "outputs": [
    {
     "data": {
      "text/plain": [
       "[bitarray('111111'),\n",
       " bitarray('111111'),\n",
       " bitarray('111001'),\n",
       " bitarray('111100'),\n",
       " bitarray('011000'),\n",
       " bitarray('000011'),\n",
       " bitarray('111001')]"
      ]
     },
     "execution_count": 8,
     "metadata": {},
     "output_type": "execute_result"
    }
   ],
   "source": [
    "bit_matrix"
   ]
  },
  {
   "cell_type": "code",
   "execution_count": 9,
   "metadata": {},
   "outputs": [
    {
     "data": {
      "text/plain": [
       "[bitarray('111111')]"
      ]
     },
     "execution_count": 9,
     "metadata": {},
     "output_type": "execute_result"
    }
   ],
   "source": [
    "inclose.extents"
   ]
  },
  {
   "cell_type": "code",
   "execution_count": 10,
   "metadata": {},
   "outputs": [
    {
     "data": {
      "text/plain": [
       "[bitarray('0000000'), bitarray('0000000')]"
      ]
     },
     "execution_count": 10,
     "metadata": {},
     "output_type": "execute_result"
    }
   ],
   "source": [
    "inclose.intents"
   ]
  },
  {
   "cell_type": "code",
   "execution_count": 11,
   "metadata": {},
   "outputs": [],
   "source": [
    "inclose.InClose2(0,0,bit_matrix, key_list, parent)"
   ]
  },
  {
   "cell_type": "code",
   "execution_count": 12,
   "metadata": {},
   "outputs": [
    {
     "data": {
      "text/plain": [
       "[bitarray('111111'),\n",
       " bitarray('111001'),\n",
       " bitarray('111100'),\n",
       " bitarray('000011'),\n",
       " bitarray('111000'),\n",
       " bitarray('000001'),\n",
       " bitarray('011000'),\n",
       " bitarray('000000')]"
      ]
     },
     "execution_count": 12,
     "metadata": {},
     "output_type": "execute_result"
    }
   ],
   "source": [
    "inclose.extents"
   ]
  },
  {
   "cell_type": "code",
   "execution_count": 13,
   "metadata": {},
   "outputs": [
    {
     "data": {
      "text/plain": [
       "[bitarray('1100000'),\n",
       " bitarray('1110001'),\n",
       " bitarray('1101000'),\n",
       " bitarray('1100010'),\n",
       " bitarray('1111001'),\n",
       " bitarray('1110011'),\n",
       " bitarray('1111101'),\n",
       " bitarray('1111111'),\n",
       " bitarray('0000000')]"
      ]
     },
     "execution_count": 13,
     "metadata": {},
     "output_type": "execute_result"
    }
   ],
   "source": [
    "inclose.intents"
   ]
  },
  {
   "cell_type": "code",
   "execution_count": 14,
   "metadata": {},
   "outputs": [
    {
     "name": "stdout",
     "output_type": "stream",
     "text": [
      "bitarray('1100000') bitarray('111111')\n",
      "bitarray('1110001') bitarray('111001')\n",
      "bitarray('1101000') bitarray('111100')\n",
      "bitarray('1100010') bitarray('000011')\n",
      "bitarray('1111001') bitarray('111000')\n",
      "bitarray('1110011') bitarray('000001')\n",
      "bitarray('1111101') bitarray('011000')\n",
      "bitarray('1111111') bitarray('000000')\n"
     ]
    }
   ],
   "source": [
    "for i in range(len(inclose.extents)):\n",
    "    print(inclose.intents[i], inclose.extents[i])"
   ]
  },
  {
   "cell_type": "code",
   "execution_count": 15,
   "metadata": {},
   "outputs": [],
   "source": [
    "result = inclose.process_output(key_list)"
   ]
  },
  {
   "cell_type": "code",
   "execution_count": 16,
   "metadata": {},
   "outputs": [
    {
     "data": {
      "text/plain": [
       "[{'intent': ['animal', 'vertebrate'], 'extent': [0, 1, 2, 3, 4, 5]},\n",
       " {'intent': ['animal', 'vertebrate', 'mammal', 'live birth'],\n",
       "  'extent': [0, 1, 2, 5]},\n",
       " {'intent': ['animal', 'vertebrate', 'land animal'], 'extent': [0, 1, 2, 3]},\n",
       " {'intent': ['animal', 'vertebrate', 'aquatic'], 'extent': [4, 5]},\n",
       " {'intent': ['animal', 'vertebrate', 'mammal', 'land animal', 'live birth'],\n",
       "  'extent': [0, 1, 2]},\n",
       " {'intent': ['animal', 'vertebrate', 'mammal', 'aquatic', 'live birth'],\n",
       "  'extent': [5]},\n",
       " {'intent': ['animal',\n",
       "   'vertebrate',\n",
       "   'mammal',\n",
       "   'land animal',\n",
       "   'four legs',\n",
       "   'live birth'],\n",
       "  'extent': [1, 2]},\n",
       " {'intent': ['animal',\n",
       "   'vertebrate',\n",
       "   'mammal',\n",
       "   'land animal',\n",
       "   'four legs',\n",
       "   'aquatic',\n",
       "   'live birth'],\n",
       "  'extent': []}]"
      ]
     },
     "execution_count": 16,
     "metadata": {},
     "output_type": "execute_result"
    }
   ],
   "source": [
    "result"
   ]
  },
  {
   "cell_type": "code",
   "execution_count": 17,
   "metadata": {},
   "outputs": [
    {
     "data": {
      "text/plain": [
       "Node('/0')"
      ]
     },
     "execution_count": 17,
     "metadata": {},
     "output_type": "execute_result"
    }
   ],
   "source": [
    "parent"
   ]
  },
  {
   "cell_type": "code",
   "execution_count": 18,
   "metadata": {},
   "outputs": [],
   "source": [
    "from anytree import Node, RenderTree, AsciiStyle, LevelOrderGroupIter"
   ]
  },
  {
   "cell_type": "code",
   "execution_count": 19,
   "metadata": {},
   "outputs": [
    {
     "data": {
      "text/plain": [
       "[[0], [1, 2, 3], [4, 5], [6], [7]]"
      ]
     },
     "execution_count": 19,
     "metadata": {},
     "output_type": "execute_result"
    }
   ],
   "source": [
    "[[node.name for node in children] for children in LevelOrderGroupIter(parent)]"
   ]
  },
  {
   "cell_type": "code",
   "execution_count": null,
   "metadata": {},
   "outputs": [],
   "source": []
  }
 ],
 "metadata": {
  "kernelspec": {
   "display_name": "pvenv",
   "language": "python",
   "name": "pvenv"
  },
  "language_info": {
   "codemirror_mode": {
    "name": "ipython",
    "version": 3
   },
   "file_extension": ".py",
   "mimetype": "text/x-python",
   "name": "python",
   "nbconvert_exporter": "python",
   "pygments_lexer": "ipython3",
   "version": "3.6.5"
  }
 },
 "nbformat": 4,
 "nbformat_minor": 2
}
